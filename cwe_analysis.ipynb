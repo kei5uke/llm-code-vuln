{
 "cells": [
  {
   "cell_type": "code",
   "execution_count": 2,
   "id": "a5680f7d",
   "metadata": {},
   "outputs": [],
   "source": [
    "import xml.etree.ElementTree as ET"
   ]
  },
  {
   "cell_type": "code",
   "execution_count": 3,
   "id": "72bbf59e",
   "metadata": {},
   "outputs": [],
   "source": [
    "# Parse the XML file\n",
    "tree = ET.parse(\"cwe.xml\")\n",
    "root = tree.getroot()\n",
    "\n",
    "# Define namespace\n",
    "ns = {\"cwe\": \"http://cwe.mitre.org/cwe-7\"}\n",
    "\n",
    "cwe_dict = {weakness.get(\"ID\"): weakness for weakness in root.findall(\".//cwe:Weakness\", ns)}"
   ]
  },
  {
   "cell_type": "code",
   "execution_count": 8,
   "id": "34281b71",
   "metadata": {},
   "outputs": [],
   "source": [
    "# Function that tells type\n",
    "def get_type(cwe_id:str):\n",
    "    weakness = cwe_dict.get(cwe_id)\n",
    "    abstraction = weakness.get(\"Abstraction\")\n",
    "    return abstraction\n",
    "\n",
    "# Function that find parent based on specified id\n",
    "def find_parents(cwe_id:str):    \n",
    "    result = {\"Pillar\": [], \"Class\": [], \"Base\": [], \"Variant\": []}\n",
    "    \n",
    "    current_cwe_id = cwe_id\n",
    "    while current_cwe_id:\n",
    "        # Find the Weakness element\n",
    "        weakness = cwe_dict.get(current_cwe_id)\n",
    "        if not weakness:\n",
    "            return None  # If CWE is not found, stop the search\n",
    "\n",
    "        abstraction = weakness.get(\"Abstraction\")\n",
    "        if ((result.get(abstraction, None)) is not None):\n",
    "            result[abstraction].append(current_cwe_id)\n",
    "        \n",
    "        # Check if the weakness abstraction is \"Pillar\"\n",
    "        if abstraction == \"Pillar\":\n",
    "            break  # Stop search if it's a Pillar\n",
    "\n",
    "        # Find the Parent CWE (ChildOf relation)\n",
    "        related_weaknesses = weakness.find(\"cwe:Related_Weaknesses\", ns)\n",
    "        if related_weaknesses is not None:\n",
    "            for related in related_weaknesses.findall(\"cwe:Related_Weakness\", ns):\n",
    "                if related.get(\"Nature\") == \"ChildOf\":\n",
    "                    current_cwe_id = related.get(\"CWE_ID\")\n",
    "    \n",
    "    return result\n",
    "\n",
    "tmp = find_parents(\"82\")"
   ]
  },
  {
   "cell_type": "code",
   "execution_count": 18,
   "id": "17567af2",
   "metadata": {},
   "outputs": [
    {
     "name": "stdout",
     "output_type": "stream",
     "text": [
      "{'file_change_id': '15303494186538', 'true_vuln': True, 'actual_cwe': 'CWE-918', 'result': {'is_this_vuln': True, 'vuln_code_part': 'const [ip, port, family] = ActiveConnector.prototype.setupConnection.args[0];', 'reason': \"The code is vulnerable to CWE-79: Improper Neutralization of Input During Web Page Generation ('Cross-site Scripting'). The `setupConnection` method is being called with user-controlled input (the IP address and port number) without proper sanitization or validation. This allows an attacker to inject malicious data, potentially leading to a cross-site scripting attack.\", 'cwe': {'cwe_id': 'CWE-79', 'name': \"Improper Neutralization of Input During Web Page Generation ('Cross-site Scripting')\", 'description': 'The software does not neutralize or incorrectly neutralizes user-controllable input to HTML output. As a result, an attacker can inject malicious scripts into the web page.'}}, 'model': 'llama3.1:8b', 'version': 1, 'error': False, 'time': 4.8003373200008355}\n"
     ]
    }
   ],
   "source": [
    "import os\n",
    "import pickle\n",
    "\n"
   ]
  },
  {
   "cell_type": "code",
   "execution_count": null,
   "id": "74f23883",
   "metadata": {},
   "outputs": [],
   "source": []
  }
 ],
 "metadata": {
  "kernelspec": {
   "display_name": "Python 3 (ipykernel)",
   "language": "python",
   "name": "python3"
  },
  "language_info": {
   "codemirror_mode": {
    "name": "ipython",
    "version": 3
   },
   "file_extension": ".py",
   "mimetype": "text/x-python",
   "name": "python",
   "nbconvert_exporter": "python",
   "pygments_lexer": "ipython3",
   "version": "3.8.10"
  }
 },
 "nbformat": 4,
 "nbformat_minor": 5
}
