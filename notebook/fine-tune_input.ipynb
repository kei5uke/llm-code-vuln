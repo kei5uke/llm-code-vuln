{
 "cells": [
  {
   "cell_type": "code",
   "execution_count": 3,
   "id": "906558a5",
   "metadata": {},
   "outputs": [],
   "source": [
    "import pandas as pd\n",
    "\n",
    "# Load the DataFrame from the pickle file\n",
    "df = pd.read_pickle('../dataset/func_level/train_df_func.pkl')"
   ]
  },
  {
   "cell_type": "code",
   "execution_count": null,
   "id": "e0d6877a",
   "metadata": {},
   "outputs": [],
   "source": [
    "for row in df.itertuples():\n",
    "    user_input = f\"\"\"Analyze the code and determine if it contains any vulnerabilities.\n",
    "Choose one of the following CWE categories:\n",
    "- CWE-79: Improper Neutralization of Input During Web Page Generation ('Cross-site Scripting')\n",
    "- CWE-89: Improper Neutralization of Special Elements used in an SQL Command ('SQL Injection')\n",
    "- CWE-434: Unrestricted Upload of File with Dangerous Type\n",
    "- CWE-352: Cross-Site Request Forgery (CSRF)\n",
    "- None: No vulnerabilities found\n",
    "\n",
    "Code:\n",
    "{row['code']}\n",
    "\n",
    "Your JSON response:\"\"\"\n",
    "    output = f\"\"\"{{row['label']}}\"\"\"\n",
    "\n",
    "    row_json = [\n",
    "        {\"role\": \"system\", \"content\": \"You are a highly skilled code analysis assistant specialized in identifying security vulnerabilities in software code.\"},\n",
    "        {\"role\": \"user\", \"content\": user_input},\n",
    "        {\"role\": \"assistant\", \"content\": output},\n",
    "    ]"
   ]
  },
  {
   "cell_type": "code",
   "execution_count": null,
   "id": "727cba7d",
   "metadata": {},
   "outputs": [
    {
     "ename": "TypeError",
     "evalue": "tuple indices must be integers or slices, not str",
     "output_type": "error",
     "traceback": [
      "\u001b[0;31m---------------------------------------------------------------------------\u001b[0m",
      "\u001b[0;31mTypeError\u001b[0m                                 Traceback (most recent call last)",
      "Input \u001b[0;32mIn [6]\u001b[0m, in \u001b[0;36m<cell line: 1>\u001b[0;34m()\u001b[0m\n\u001b[0;32m----> 1\u001b[0m \u001b[43mrow\u001b[49m\u001b[43m[\u001b[49m\u001b[38;5;124;43m'\u001b[39;49m\u001b[38;5;124;43mcode\u001b[39;49m\u001b[38;5;124;43m'\u001b[39;49m\u001b[43m]\u001b[49m\n",
      "\u001b[0;31mTypeError\u001b[0m: tuple indices must be integers or slices, not str"
     ]
    }
   ],
   "source": [
    "row['co"
   ]
  },
  {
   "cell_type": "code",
   "execution_count": null,
   "id": "f7299e9c",
   "metadata": {},
   "outputs": [],
   "source": [
    "import csv\n",
    "\n",
    "prompts = []\n",
    "\n",
    "for i, row in df.iterrows():\n",
    "    user_input = f\"\"\"Analyze the code and determine if it contains any vulnerabilities.\n",
    "Choose one of the following CWE categories:\n",
    "- CWE-79: Improper Neutralization of Input During Web Page Generation ('Cross-site Scripting')\n",
    "- CWE-89: Improper Neutralization of Special Elements used in an SQL Command ('SQL Injection')\n",
    "- CWE-434: Unrestricted Upload of File with Dangerous Type\n",
    "- CWE-352: Cross-Site Request Forgery (CSRF)\n",
    "- None: No vulnerabilities found\n",
    "\n",
    "Code:\n",
    "{row['code']}\n",
    "\n",
    "Your JSON response:\"\"\"\n",
    "    output = f\"{row['label']}\"\n",
    "\n",
    "    row_json = [\n",
    "      {\"instruction\": \"You are a highly skilled code analysis assistant specialized in identifying security vulnerabilities in software code.\"},\n",
    "      {\"input\": user_input},\n",
    "      {\"output\": output},\n",
    "    ]\n",
    "    prompts.append(row_json)\n",
    "\n",
    "  # Convert the prompts list into a CSV file\n",
    "\n",
    "with open('prompts.csv', 'w', newline='', encoding='utf-8') as csv_file:\n",
    "  csv_writer = csv.writer(csv_file)\n",
    "  csv_writer.writerow(['instruction', 'input', 'output'])  # Write header\n",
    "  for prompt in prompts:\n",
    "    csv_writer.writerow([prompt[0]['instruction'], prompt[1]['input'], prompt[2]['output']])\n",
    "  prompts.append(row_json)"
   ]
  },
  {
   "cell_type": "code",
   "execution_count": 22,
   "id": "a0226cd5",
   "metadata": {},
   "outputs": [
    {
     "name": "stdout",
     "output_type": "stream",
     "text": [
      "                                         instruction  \\\n",
      "0  You are a highly skilled code analysis assista...   \n",
      "1  You are a highly skilled code analysis assista...   \n",
      "2  You are a highly skilled code analysis assista...   \n",
      "3  You are a highly skilled code analysis assista...   \n",
      "4  You are a highly skilled code analysis assista...   \n",
      "\n",
      "                                               input   output  \n",
      "0  Analyze the code and determine if it contains ...  CWE-352  \n",
      "1  Analyze the code and determine if it contains ...  CWE-352  \n",
      "2  Analyze the code and determine if it contains ...  CWE-352  \n",
      "3  Analyze the code and determine if it contains ...  CWE-352  \n",
      "4  Analyze the code and determine if it contains ...  CWE-352  \n"
     ]
    }
   ],
   "source": [
    "loaded_df = pd.read_csv('prompts.csv')\n",
    "print(loaded_df.head())"
   ]
  }
 ],
 "metadata": {
  "kernelspec": {
   "display_name": "venv",
   "language": "python",
   "name": "python3"
  },
  "language_info": {
   "codemirror_mode": {
    "name": "ipython",
    "version": 3
   },
   "file_extension": ".py",
   "mimetype": "text/x-python",
   "name": "python",
   "nbconvert_exporter": "python",
   "pygments_lexer": "ipython3",
   "version": "3.9.18"
  }
 },
 "nbformat": 4,
 "nbformat_minor": 5
}
