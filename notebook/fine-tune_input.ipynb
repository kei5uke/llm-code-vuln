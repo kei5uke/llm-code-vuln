{
 "cells": [
  {
   "cell_type": "code",
   "execution_count": null,
   "id": "906558a5",
   "metadata": {},
   "outputs": [],
   "source": [
    "import pandas as pd\n",
    "\n",
    "# Load the DataFrame from the pickle file\n",
    "# df = pd.read_pickle('../dataset/func_level/train_df_func.pkl')\n",
    "df = pd.read_pickle('./file_with_explanation.pkl')"
   ]
  },
  {
   "cell_type": "code",
   "execution_count": null,
   "id": "e0d6877a",
   "metadata": {},
   "outputs": [],
   "source": [
    "dataset = []\n",
    "\n",
    "for i, row in df.iterrows():\n",
    "    user_input = f\"\"\"Analyze the code and determine if it contains any vulnerabilities.\n",
    "Answer in the following CWE categories:\n",
    "- CWE-79: Improper Neutralization of Input During Web Page Generation ('Cross-site Scripting')\n",
    "- CWE-89: Improper Neutralization of Special Elements used in an SQL Command ('SQL Injection')\n",
    "- CWE-434: Unrestricted Upload of File with Dangerous Type\n",
    "- CWE-352: Cross-Site Request Forgery (CSRF)\n",
    "- None: No vulnerabilities found\n",
    "\n",
    "Code:\n",
    "{row['code']}\n",
    "\n",
    "CWE-ID:\"\"\"\n",
    "    output = f\"{row['label']}\"\n",
    "\n",
    "    row_json = [\n",
    "        {\"role\": \"system\", \"content\": \"You are a highly skilled code analysis assistant specialized in identifying security vulnerabilities in software code.\"},\n",
    "        {\"role\": \"user\", \"content\": user_input},\n",
    "        {\"role\": \"assistant\", \"content\": output},\n",
    "    ]\n",
    "    dataset.append({\"messages\":row_json})"
   ]
  },
  {
   "cell_type": "code",
   "execution_count": 4,
   "id": "a19930b8",
   "metadata": {},
   "outputs": [],
   "source": [
    "import pickle\n",
    "\n",
    "with open('func_prompt.pkl', 'wb') as pickle_file:\n",
    "  pickle.dump(dataset, pickle_file)"
   ]
  },
  {
   "cell_type": "code",
   "execution_count": null,
   "id": "d3b99850",
   "metadata": {},
   "outputs": [],
   "source": []
  }
 ],
 "metadata": {
  "kernelspec": {
   "display_name": "venv",
   "language": "python",
   "name": "python3"
  },
  "language_info": {
   "codemirror_mode": {
    "name": "ipython",
    "version": 3
   },
   "file_extension": ".py",
   "mimetype": "text/x-python",
   "name": "python",
   "nbconvert_exporter": "python",
   "pygments_lexer": "ipython3",
   "version": "3.9.18"
  }
 },
 "nbformat": 4,
 "nbformat_minor": 5
}
