{
 "cells": [
  {
   "cell_type": "code",
   "execution_count": 1,
   "id": "936d0745",
   "metadata": {},
   "outputs": [],
   "source": [
    "import json\n",
    "import pickle\n",
    "import numpy as np\n",
    "import re\n",
    "import pandas as pd\n",
    "import matplotlib.pyplot as plt\n",
    "import seaborn as sns\n",
    "from sklearn.metrics import confusion_matrix, ConfusionMatrixDisplay\n",
    "import os\n",
    "from collections import defaultdict"
   ]
  },
  {
   "cell_type": "code",
   "execution_count": null,
   "id": "a54f1258",
   "metadata": {},
   "outputs": [
    {
     "name": "stdout",
     "output_type": "stream",
     "text": [
      "494\n"
     ]
    }
   ],
   "source": [
    "# result_file_path = \"../result/file_level_base/04-11_21-54_zero_prompt/final_results_phi4:14b.json\"\n",
    "# result_file_path = \"../result/file_level_base/04-11_21-54_cot_prompt/final_results_phi4:14b.json\"\n",
    "# result_file_path = \"../result/file_level_base/04-11_21-54_fs_prompt/final_results_phi4:14b.json\"\n",
    "\n",
    "# result_file_path = \"../result/FT_file_result/04-18_08-37_zero_prompt/final_results_Phi4_FT_3ep_file.json\"\n",
    "# result_file_path = \"../result/FT_file_result/04-18_08-37_cot_prompt/final_results_Phi4_FT_3ep_file.json\"\n",
    "# result_file_path = \"../result/FT_file_result/04-18_08-37_fs_prompt/final_results_Phi4_FT_3ep_file.json\"\n",
    "\n",
    "# result_file_path = \"../result/FT_file_explain/04-22_11-13_zero_prompt/final_results_FT_file_ep3_explain.json\"\n",
    "# result_file_path = \"../result/FT_file_explain/04-22_11-13_cot_prompt/final_results_FT_file_ep3_explain.json\"\n",
    "# result_file_path = \"../result/FT_file_explain/04-22_11-13_fs_prompt/final_results_FT_file_ep3_explain.json\"\n",
    "\n",
    "# result_file_path = \"../result/func_level_base/04-11_17-55_zero_prompt/final_results_phi4:14b.json\"\n",
    "result_file_path = \"../result/func_level_base/04-10_09-29_cot_prompt/final_results_phi4:14b.json\"\n",
    "# result_file_path = \"../result/func_level_base/04-10_09-29_fs_prompt/final_results_phi4:14b.json\"\n",
    "\n",
    "# result_file_path = \"../result/FT_func_result_ver2/04-19_22-49_zero_prompt/final_results_FT_func_ep3_v2.json\"\n",
    "# result_file_path = \"../result/FT_func_result_ver2/04-19_22-49_cot_prompt/final_results_FT_func_ep3_v2.json\"\n",
    "# result_file_path = \"../result/FT_func_result_ver2/04-19_22-49_fs_prompt/final_results_FT_func_ep3_v2.json\"\n",
    "\n",
    "# result_file_path = \"../result/FT_func_explain/04-21_11-56_zero_prompt/final_results_FT_func_ep3_explain.json\"\n",
    "# result_file_path = \"../result/FT_func_explain/04-21_11-56_cot_prompt/final_results_FT_func_ep3_explain.json\"\n",
    "# result_file_path = \"../result/FT_func_explain/04-21_11-56_fs_prompt/final_results_FT_func_ep3_explain.json\"\n",
    "\n",
    "# result_file_path = \"../result/FT_func_explain_ep1/04-23_04-56_zero_prompt/final_results_FT_func_ep1_explain.json\"\n",
    "# result_file_path = \"../result/FT_func_explain_ep1/04-23_04-56_cot_prompt/final_results_FT_func_ep1_explain.json\"\n",
    "# result_file_path = \"../result/FT_func_explain_ep1/04-23_04-56_fs_prompt/final_results_FT_func_ep1_explain.json\"\n",
    "\n",
    "# result_file_path = \"../result/FT_func_explain/04-21_11-56_zero_prompt/final_results_FT_func_ep3_explain.json\"\n",
    "# result_file_path = \"../result/FT_func_explain/04-21_11-56_cot_prompt/final_results_FT_func_ep3_explain.json\"\n",
    "# result_file_path = \"../result/FT_func_explain/04-21_11-56_fs_prompt/final_results_FT_func_ep3_explain.json\"\n",
    "\n",
    "# result_file_path = \"../result/FT_file_explain_simple/05-06_13-45_zero_prompt/final_results_FT_file_explain_simple.json\"\n",
    "# result_file_path = \"../result/FT_file_explain_simple/05-06_13-45_cot_prompt/final_results_FT_file_explain_simple.json\"\n",
    "# result_file_path = \"../result/FT_file_explain_simple/05-06_13-45_fs_prompt/final_results_FT_file_explain_simple.json\"\n",
    "\n",
    "# result_file_path = \"../result/FT_file_explain_simple_v2/05-09_00-12_zero_prompt/final_results_FT_file_explain_simple.json\"\n",
    "# result_file_path = \"../result/FT_file_explain_simple_v2/05-09_00-12_cot_prompt/final_results_FT_file_explain_simple.json\"\n",
    "# result_file_path = \"../result/FT_file_explain_simple_v2/05-09_00-12_fs_prompt/final_results_FT_file_explain_simple.json\"\n",
    "\n",
    "# result_file_path = \"../result/FT_func_explain_simple/05-06_20-19_zero_prompt/final_results_FT_func_explain_simple.json\"\n",
    "# result_file_path = \"../result/FT_func_explain_simple/05-06_20-19_cot_prompt/final_results_FT_func_explain_simple.json\"\n",
    "# result_file_path = \"../result/FT_func_explain_simple/05-06_20-19_fs_prompt/final_results_FT_func_explain_simple.json\"\n",
    "\n",
    "# result_file_path = \"../result/FT_func_explain_simple_v2/05-09_15-43_zero_prompt/final_results_FT_func_explain_simple.json\"\n",
    "# result_file_path = \"../result/FT_func_explain_simple_v2/05-09_15-43_cot_prompt/final_results_FT_func_explain_simple.json\"\n",
    "# result_file_path = \"../result/FT_func_explain_simple_v2/05-09_15-43_fs_prompt/final_results_FT_func_explain_simple.json\"\n",
    "\n",
    "# Load the JSON file\n",
    "with open(result_file_path, 'r') as file:\n",
    "    results = json.load(file)\n",
    "\n",
    "print(len(results))"
   ]
  },
  {
   "cell_type": "markdown",
   "id": "f122b74f-221d-4b52-88e6-3add78b1946a",
   "metadata": {},
   "source": [
    "# Result Analysis"
   ]
  },
  {
   "cell_type": "code",
   "execution_count": 3,
   "id": "4f52d38b-cf69-4ba9-bca5-e894a123ab03",
   "metadata": {},
   "outputs": [
    {
     "name": "stdout",
     "output_type": "stream",
     "text": [
      "{\n",
      "    \"index\": 457,\n",
      "    \"file_change_id\": \"62729208306204\",\n",
      "    \"lang\": \"Python\",\n",
      "    \"vuln_type\": \"non_vuln\",\n",
      "    \"result\": {\n",
      "        \"reasoning\": \"The code is a Flask application that implements OAuth2 and OpenID Connect for user authentication. It includes routes for signing in, handling callbacks, and signing out. The application uses JWTs to handle user information after successful authentication.\\n\\n1. **Overall Structure**: The app has three main routes: `/`, `/sign-in`, and `/sign-out`. The `/` route displays the user's sign-in status. The `/sign-in` initiates an OAuth2 authorization request, while `/sign-in/callback` handles the response from the identity provider (IDP). The `/sign-out` clears the session.\\n\\n2. **User Input Handling & Data Flow**: \\n   - User input is received via query parameters (`code`, `state`) and cookies (`python-flask-csrf`).\\n   - The application uses a CSRF token stored in a cookie to protect against Cross-Site Request Forgery attacks during the OAuth2 flow.\\n   - JWT tokens are decoded without verification, which could be risky if not handled properly.\\n\\n3. **Vulnerability Analysis**: \\n   - **CSRF Protection**: The code correctly implements CSRF protection by using a state parameter and verifying it against a stored cookie value. This mitigates the risk of CSRF attacks (CWE-352).\\n   - **JWT Verification**: The JWT is decoded without verification (`verify=False`). While this might be acceptable in a controlled environment where HTTPS is used, it poses a security risk if tokens are intercepted or manipulated.\\n\\n4. **Identified Vulnerability**: \\n   - The lack of JWT verification can lead to potential vulnerabilities such as token tampering or replay attacks. This is because the application trusts the `id_token` without verifying its signature.\\n\\n5. **Explanation**: \\n   - By not verifying the JWT, the application does not ensure that the token was issued by a trusted source and has not been altered. This could allow an attacker to forge tokens and gain unauthorized access.\\n   - According to CWE-434, this is related to handling unverified data from external sources, which can lead to security issues if the data is maliciously crafted.\\n\\n6. **CWE Category**: \\n   - The issue aligns with CWE-434: Unrestricted Upload of File with Dangerous Type, as it involves processing untrusted input (JWT) without proper validation or verification.\\n\\n7. **Conclusion**: \\n   - To mitigate this vulnerability, the application should verify the JWT using a trusted public key from the IDP. This ensures that the token is authentic and has not been tampered with.\",\n",
      "        \"cwe_id\": \"CWE-434\"\n",
      "    },\n",
      "    \"model\": \"phi4:14b\",\n",
      "    \"version\": 1,\n",
      "    \"error\": false,\n",
      "    \"time\": 12.427405246999115\n",
      "}\n"
     ]
    }
   ],
   "source": [
    "from random import randint \n",
    "print(json.dumps(results[randint(0, len(results))], indent=4))"
   ]
  },
  {
   "cell_type": "code",
   "execution_count": 4,
   "id": "ba918850",
   "metadata": {
    "scrolled": true
   },
   "outputs": [
    {
     "name": "stdout",
     "output_type": "stream",
     "text": [
      "484 484\n"
     ]
    }
   ],
   "source": [
    "chosen_cwes = ['79', '89', '434', '352']\n",
    "langs = ['ALL', 'PHP', 'JavaScript', 'Java', 'TypeScript', 'Ruby', 'Python']\n",
    "\n",
    "def judge_cwe(cwe):\n",
    "    for chosen_cwe in chosen_cwes:\n",
    "        if chosen_cwe in cwe:\n",
    "            return 'CWE-'+ chosen_cwe\n",
    "    return 'None'\n",
    "\n",
    "true_label = []\n",
    "pred_label = []\n",
    "for result in results:\n",
    "      true = result['vuln_type']\n",
    "\n",
    "      if true == 'non_vuln': true = 'None'\n",
    "\n",
    "      if(result['result'].get('cwe_id') != None):\n",
    "        pred = judge_cwe(result['result']['cwe_id'])\n",
    "        true_label.append(true)\n",
    "        pred_label.append(pred)\n",
    "print(len(true_label), len(pred_label))"
   ]
  },
  {
   "cell_type": "code",
   "execution_count": 5,
   "id": "837940ca",
   "metadata": {},
   "outputs": [
    {
     "name": "stdout",
     "output_type": "stream",
     "text": [
      "(array(['CWE-352', 'CWE-434', 'CWE-79', 'CWE-89', 'None'], dtype='<U7'), array([ 28,  12, 122,  80, 242]))\n",
      "(array(['CWE-352', 'CWE-434', 'CWE-79', 'CWE-89', 'None'], dtype='<U7'), array([ 19,  16,  75, 108, 266]))\n"
     ]
    }
   ],
   "source": [
    "print(np.unique(true_label, return_counts=True))\n",
    "print(np.unique(pred_label, return_counts=True))"
   ]
  },
  {
   "cell_type": "code",
   "execution_count": 6,
   "id": "bdbbafb9",
   "metadata": {},
   "outputs": [
    {
     "data": {
      "image/png": "[encoded data removed]",
      "text/plain": [
       "<Figure size 720x576 with 2 Axes>"
      ]
     },
     "metadata": {
      "needs_background": "light"
     },
     "output_type": "display_data"
    }
   ],
   "source": [
    "import numpy as np\n",
    "from sklearn.metrics import confusion_matrix\n",
    "\n",
    "cwe_classes = ['None', 'CWE-79', 'CWE-89', 'CWE-434', 'CWE-352']\n",
    "language_classes = ['PHP', 'JavaScript', 'Java', 'TypeScript', 'Ruby', 'Python']\n",
    "\n",
    "# Compute confusion matrix and normalize\n",
    "cwe_cm = confusion_matrix(true_label, pred_label, labels=cwe_classes)\n",
    "row_sums = cwe_cm.sum(axis=1, keepdims=True)\n",
    "cwe_cm_percent = np.divide(cwe_cm, row_sums, where=row_sums!=0) * 100\n",
    "\n",
    "# Flip the matrix and labels for desired axis orientation\n",
    "cwe_cm_flipped = cwe_cm[::-1]\n",
    "cwe_cm_percent_flipped = cwe_cm_percent[::-1]\n",
    "flipped_labels = cwe_classes[::-1]\n",
    "\n",
    "# Create annotations with both percentage and raw count\n",
    "annot = np.empty_like(cwe_cm_percent_flipped, dtype=object)\n",
    "for i in range(cwe_cm_flipped.shape[0]):\n",
    "    for j in range(cwe_cm_flipped.shape[1]):\n",
    "        percent = f\"{cwe_cm_percent_flipped[i, j]:.1f}%\"\n",
    "        count = f\"({cwe_cm_flipped[i, j]})\"\n",
    "        annot[i, j] = f\"{percent}\\n{count}\"\n",
    "\n",
    "# Plot confusion matrix\n",
    "plt.figure(figsize=(10, 8))\n",
    "sns.heatmap(\n",
    "    cwe_cm_percent_flipped,\n",
    "    annot=annot,\n",
    "    fmt=\"\",\n",
    "    cmap=\"Blues\",\n",
    "    xticklabels=cwe_classes,\n",
    "    yticklabels=flipped_labels,\n",
    "    cbar_kws={'label': 'Percentage (%)'}\n",
    ")\n",
    "plt.title(\"CWE Confusion Matrix\")\n",
    "plt.xlabel(\"Predicted Label\")\n",
    "plt.ylabel(\"True Label\")\n",
    "plt.tight_layout()\n",
    "plt.show()"
   ]
  },
  {
   "cell_type": "code",
   "execution_count": 7,
   "id": "712f3ed5",
   "metadata": {},
   "outputs": [
    {
     "data": {
      "text/plain": [
       "array([[148,  28,  48,   7,  11],\n",
       "       [ 65,  34,  14,   4,   5],\n",
       "       [ 31,   6,  40,   3,   0],\n",
       "       [  7,   0,   3,   1,   1],\n",
       "       [ 15,   7,   3,   1,   2]])"
      ]
     },
     "execution_count": 7,
     "metadata": {},
     "output_type": "execute_result"
    }
   ],
   "source": [
    "cwe_cm"
   ]
  },
  {
   "cell_type": "code",
   "execution_count": 8,
   "id": "d6b19308",
   "metadata": {},
   "outputs": [
    {
     "name": "stdout",
     "output_type": "stream",
     "text": [
      "CWE-79 TP: 34\n",
      "CWE-79 FN: 41\n",
      "CWE-79 total_predicted_positives 75\n",
      "\n",
      "CWE-Class Metrics:\n",
      "CWE-Class    FNR%   FPR%   Acc    Precision Recall F1    \n",
      "None         0.39   0.49   0.56   0.56      0.61   0.58  \n",
      "CWE-79       0.72   0.11   0.73   0.45      0.28   0.35  \n",
      "CWE-89       0.50   0.17   0.78   0.37      0.50   0.43  \n",
      "CWE-434      0.92   0.03   0.95   0.06      0.08   0.07  \n",
      "CWE-352      0.93   0.04   0.91   0.11      0.07   0.09  \n"
     ]
    }
   ],
   "source": [
    "# Calculate metrics for each CWE class\n",
    "cwe_table = []\n",
    "for i, cwe in enumerate(cwe_classes):\n",
    "    TP = cwe_cm[i, i]\n",
    "    FN = cwe_cm[i, :].sum() - TP\n",
    "    FP = cwe_cm[:, i].sum() - TP\n",
    "    TN = cwe_cm.sum() - (TP + FP + FN)\n",
    "    \n",
    "    # Total actual positives (TP + FN)\n",
    "    total_actual_positives = TP + FN\n",
    "    # Total predicted positives (TP + FP)\n",
    "    total_predicted_positives = TP + FP\n",
    "    \n",
    "    # Calculate ratios\n",
    "    FNR = FN / (FN + TP)  # False Negative Rate (FNR)\n",
    "    FPR = FP / (FP + TN)  # False Positive Rate (FPR)\n",
    "    \n",
    "    Acc = (TP + TN) / cwe_cm.sum()\n",
    "\n",
    "    if cwe == 'CWE-79':\n",
    "        print(\"CWE-79 TP:\", TP)\n",
    "        print(\"CWE-79 FN:\", FP)\n",
    "        print(\"CWE-79 total_predicted_positives\", total_predicted_positives)\n",
    "\n",
    "\n",
    "    Precision = TP / total_predicted_positives if total_predicted_positives != 0 else 0\n",
    "    Recall = TP / total_actual_positives if total_actual_positives != 0 else 0\n",
    "    F1 = 2 * (Precision * Recall) / (Precision + Recall) if (Precision + Recall) != 0 else 0\n",
    "    \n",
    "    cwe_table.append([cwe, FN, FP, FNR, FPR, Acc, Precision, Recall, F1])\n",
    "\n",
    "# Print CWE metrics table\n",
    "print(\"\\nCWE-Class Metrics:\")\n",
    "print(f\"{'CWE-Class':<12} {'FNR%':<6} {'FPR%':<6} {'Acc':<6} {'Precision':<9} {'Recall':<6} {'F1':<6}\") \n",
    "for row in cwe_table:\n",
    "    print(f\"{row[0]:<12} {row[3]:<6.2f} {row[4]:<6.2f} {row[5]:<6.2f} {row[6]:<9.2f} {row[7]:<6.2f} {row[8]:<6.2f}\")"
   ]
  },
  {
   "cell_type": "code",
   "execution_count": 9,
   "id": "e6d6c250",
   "metadata": {},
   "outputs": [
    {
     "data": {
      "text/plain": [
       "(array(['CWE-352', 'CWE-434', 'CWE-79', 'CWE-89', 'None'], dtype='<U7'),\n",
       " array([ 28,  12, 122,  80, 242]))"
      ]
     },
     "execution_count": 9,
     "metadata": {},
     "output_type": "execute_result"
    }
   ],
   "source": [
    "np.unique(true_label, return_counts=True)"
   ]
  },
  {
   "cell_type": "code",
   "execution_count": 10,
   "id": "2f292a80",
   "metadata": {},
   "outputs": [
    {
     "data": {
      "text/plain": [
       "(array(['CWE-352', 'CWE-434', 'CWE-79', 'CWE-89', 'None'], dtype='<U7'),\n",
       " array([ 19,  16,  75, 108, 266]))"
      ]
     },
     "execution_count": 10,
     "metadata": {},
     "output_type": "execute_result"
    }
   ],
   "source": [
    "np.unique(pred_label, return_counts=True)"
   ]
  },
  {
   "cell_type": "code",
   "execution_count": 11,
   "id": "7d089dc6",
   "metadata": {},
   "outputs": [
    {
     "name": "stdout",
     "output_type": "stream",
     "text": [
      "Weighted Accuracy: 0.4649\n",
      "Weighted Precision: 0.4613\n",
      "Weighted Recall: 0.4649\n",
      "Weighted F1-score: 0.4554\n",
      "Weighted FNR: 0.5351\n",
      "Weighted FPR: 0.3031\n",
      "Macro F1-score: 0.3020\n",
      "Macro FNR: 0.6910\n",
      "Macro FPR: 0.1676\n"
     ]
    }
   ],
   "source": [
    "from sklearn.metrics import accuracy_score, recall_score, precision_score, f1_score\n",
    "\n",
    "def calculate__metrics(true_label, pred_label):\n",
    "  \"\"\"\n",
    "  Calculate weighted and macro classification metrics for imbalanced multi-class data.\n",
    "  \n",
    "  Args:\n",
    "    true_label (array-like): Ground truth labels.\n",
    "    pred_label (array-like): Predicted labels.\n",
    "    \n",
    "  Returns:\n",
    "    dict: Metrics including Accuracy, Precision, Recall, F1-score, FNR, and FPR (both weighted and macro).\n",
    "  \"\"\"\n",
    "  cwe_classes = np.unique(true_label)\n",
    "  cm = confusion_matrix(true_label, pred_label, labels=cwe_classes)\n",
    "  support = cm.sum(axis=1)  # Number of samples per class\n",
    "\n",
    "  # True positives per class\n",
    "  tp = np.diag(cm)\n",
    "  # False positives: predicted as class i but actually another class\n",
    "  fp = cm.sum(axis=0) - tp\n",
    "  # False negatives: actually class i but predicted as another\n",
    "  fn = cm.sum(axis=1) - tp\n",
    "  # True negatives: all others\n",
    "  tn = cm.sum() - (tp + fp + fn)\n",
    "\n",
    "  # Per-class FNR and FPR\n",
    "  fnr = fn / (fn + tp + 1e-12)  # Avoid division by zero\n",
    "  fpr = fp / (fp + tn + 1e-12)\n",
    "\n",
    "  # Weighted (support-based) averages\n",
    "  weighted_fnr = np.average(fnr, weights=support)\n",
    "  weighted_fpr = np.average(fpr, weights=support)\n",
    "\n",
    "  # Macro (unweighted) averages\n",
    "  macro_fnr = np.mean(fnr)\n",
    "  macro_fpr = np.mean(fpr)\n",
    "\n",
    "  # Metrics from sklearn\n",
    "  acc = accuracy_score(true_label, pred_label)\n",
    "  precision = precision_score(true_label, pred_label, average='weighted', zero_division=0)\n",
    "  recall = recall_score(true_label, pred_label, average='weighted', zero_division=0)\n",
    "  f1 = f1_score(true_label, pred_label, average='weighted', zero_division=0)\n",
    "  macro_f1 = f1_score(true_label, pred_label, average='macro', zero_division=0)\n",
    "\n",
    "  return {\n",
    "    \"Weighted Accuracy\": acc,\n",
    "    \"Weighted Precision\": precision,\n",
    "    \"Weighted Recall\": recall,\n",
    "    \"Weighted F1-score\": f1,\n",
    "    \"Weighted FNR\": weighted_fnr,\n",
    "    \"Weighted FPR\": weighted_fpr,\n",
    "    \"Macro F1-score\": macro_f1,\n",
    "    \"Macro FNR\": macro_fnr,\n",
    "    \"Macro FPR\": macro_fpr\n",
    "  }\n",
    "\n",
    "metrics = calculate__metrics(true_label, pred_label)\n",
    "    \n",
    "# Print results\n",
    "for metric, value in metrics.items():\n",
    "    print(f\"{metric}: {value:.4f}\")"
   ]
  },
  {
   "cell_type": "code",
   "execution_count": null,
   "id": "31aa9f0c",
   "metadata": {},
   "outputs": [],
   "source": []
  }
 ],
 "metadata": {
  "kernelspec": {
   "display_name": "venv",
   "language": "python",
   "name": "python3"
  },
  "language_info": {
   "codemirror_mode": {
    "name": "ipython",
    "version": 3
   },
   "file_extension": ".py",
   "mimetype": "text/x-python",
   "name": "python",
   "nbconvert_exporter": "python",
   "pygments_lexer": "ipython3",
   "version": "3.9.18"
  }
 },
 "nbformat": 4,
 "nbformat_minor": 5
}
