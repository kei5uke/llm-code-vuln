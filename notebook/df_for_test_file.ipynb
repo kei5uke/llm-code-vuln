{
 "cells": [
  {
   "cell_type": "code",
   "execution_count": 1,
   "id": "c41cc4f2",
   "metadata": {},
   "outputs": [],
   "source": [
    "import sys\n",
    "import os\n",
    "\n",
    "project_root = os.path.abspath(os.path.join(os.getcwd(), \"..\"))\n",
    "if project_root not in sys.path:\n",
    "    sys.path.append(project_root)\n",
    "\n",
    "from tools.utils.sqlite_utils import create_connection\n",
    "\n",
    "import pandas as pd\n",
    "import ast\n",
    "import re\n",
    "import pickle\n",
    "import tiktoken\n",
    "\n",
    "conn = create_connection('../dataset/CVEfixes_v1.0.8/Data/DB.db')"
   ]
  },
  {
   "cell_type": "code",
   "execution_count": 2,
   "id": "a3ce0514",
   "metadata": {},
   "outputs": [
    {
     "name": "stdout",
     "output_type": "stream",
     "text": [
      "20117\n"
     ]
    }
   ],
   "source": [
    "query = f\"\"\"\n",
    "SELECT\n",
    "        f.file_change_id,\n",
    "        f.programming_language,\n",
    "        cwe.cwe_id,\n",
    "        f.code_after AS non_vuln_code,\n",
    "        f.code_before AS vuln_code,\n",
    "        cwe.description AS cwe_description,\n",
    "        f.diff_parsed,\n",
    "        cve.description AS cve_description,\n",
    "        f.token_count\n",
    "FROM file_change f\n",
    "        INNER JOIN fixes\n",
    "                ON f.hash = fixes.hash\n",
    "        INNER JOIN cve\n",
    "                ON fixes.cve_id = cve.cve_id\n",
    "        INNER JOIN cwe_classification\n",
    "                ON cve.cve_id = cwe_classification.cve_id\n",
    "        INNER JOIN cwe\n",
    "                ON cwe_classification.cwe_id = cwe.cwe_id\n",
    "WHERE\n",
    "        f.num_lines_added>1\n",
    "        AND f.num_lines_deleted>1\n",
    "        AND f.programming_language IS NOT NULL\n",
    "        AND cwe.cwe_id IS NOT NULL\n",
    "        AND cwe.cwe_name IS NOT NULL\n",
    "        AND f.code_before IS NOT NULL\n",
    "        AND cwe.description IS NOT NULL\n",
    "        AND f.diff_parsed IS NOT NULL\n",
    "        AND cve.description IS NOT NULL\n",
    "        AND f.token_count IS NOT NULL;\n",
    "    \"\"\"\n",
    "df = pd.read_sql(query, con=conn)\n",
    "print(len(df))"
   ]
  },
  {
   "cell_type": "code",
   "execution_count": 3,
   "id": "71778eb3",
   "metadata": {},
   "outputs": [
    {
     "name": "stdout",
     "output_type": "stream",
     "text": [
      "Initial df length: 20117\n",
      "After filtering programming languages: 11213\n"
     ]
    },
    {
     "name": "stderr",
     "output_type": "stream",
     "text": [
      "/var/folders/rg/wn5gjnxn79s8sdtltf2gj_r00000gn/T/ipykernel_35669/2561257403.py:13: SettingWithCopyWarning: \n",
      "A value is trying to be set on a copy of a slice from a DataFrame.\n",
      "Try using .loc[row_indexer,col_indexer] = value instead\n",
      "\n",
      "See the caveats in the documentation: https://pandas.pydata.org/pandas-docs/stable/user_guide/indexing.html#returning-a-view-versus-a-copy\n",
      "  df['diff_added'] = df.apply(lambda row: ast.literal_eval(row.diff_parsed)['added'], axis=1)\n",
      "/var/folders/rg/wn5gjnxn79s8sdtltf2gj_r00000gn/T/ipykernel_35669/2561257403.py:14: SettingWithCopyWarning: \n",
      "A value is trying to be set on a copy of a slice from a DataFrame.\n",
      "Try using .loc[row_indexer,col_indexer] = value instead\n",
      "\n",
      "See the caveats in the documentation: https://pandas.pydata.org/pandas-docs/stable/user_guide/indexing.html#returning-a-view-versus-a-copy\n",
      "  df['diff_deleted'] = df.apply(lambda row: ast.literal_eval(row.diff_parsed)['deleted'], axis=1)\n"
     ]
    },
    {
     "name": "stdout",
     "output_type": "stream",
     "text": [
      "After filtering diff_added & diff_deleted: 11213\n",
      "After removing NaN vuln_code: 11213\n",
      "After removing 'None' vuln_code: 11213\n",
      "After removing NaN non_vuln_code: 11213\n",
      "After removing 'None' non_vuln_code: 11213\n",
      "After filtering vuln_code with line numbers: 3735\n",
      "After filtering non_vuln_code with line numbers: 3579\n",
      "After removing empty lists in diff_deleted: 3579\n",
      "After processing token_count: 3172\n",
      "After removing specific CWEs: 1187\n",
      "Final df length after dropna: 1187\n",
      "1187\n"
     ]
    }
   ],
   "source": [
    "langs = [\"PHP\", \"JavaScript\", \"Java\", \"TypeScript\", \"Ruby\", \"Python\"]\n",
    "remove_cwe = ['NVD-CWE-noinfo', 'NVD-CWE-Other']\n",
    "chosen_cwes = ['CWE-79', 'CWE-89', 'CWE-434', 'CWE-352']\n",
    "\n",
    "def pre_processing(df):\n",
    "    print(f\"Initial df length: {len(df)}\")\n",
    "\n",
    "    # keep only the specified programming languages\n",
    "    df = df[df['programming_language'].isin(langs)]\n",
    "    print(f\"After filtering programming languages: {len(df)}\")\n",
    "\n",
    "    # code diff: both add & del should exist\n",
    "    df['diff_added'] = df.apply(lambda row: ast.literal_eval(row.diff_parsed)['added'], axis=1)\n",
    "    df['diff_deleted'] = df.apply(lambda row: ast.literal_eval(row.diff_parsed)['deleted'], axis=1)\n",
    "    df = df[df['diff_added'].apply(bool) & df['diff_deleted'].apply(bool)]\n",
    "    print(f\"After filtering diff_added & diff_deleted: {len(df)}\")\n",
    "\n",
    "    df = df.reset_index(drop=True)\n",
    "    df = df.drop(columns=['diff_parsed'])\n",
    "\n",
    "    # cve description type str -> arr\n",
    "    def parse_py_literal(text):\n",
    "        if not isinstance(text, str):\n",
    "            return text\n",
    "        try:\n",
    "            return ast.literal_eval(text)\n",
    "        except (SyntaxError, ValueError):\n",
    "            return None\n",
    "\n",
    "    df['cve_description'] = df['cve_description'].apply(parse_py_literal)\n",
    "\n",
    "    # code before and after\n",
    "    df = df[df['vuln_code'].notna()]\n",
    "    print(f\"After removing NaN vuln_code: {len(df)}\")\n",
    "\n",
    "    df = df[df['vuln_code'] != 'None']\n",
    "    print(f\"After removing 'None' vuln_code: {len(df)}\")\n",
    "\n",
    "    df = df[df['non_vuln_code'].notna()]\n",
    "    print(f\"After removing NaN non_vuln_code: {len(df)}\")\n",
    "\n",
    "    df = df[df['non_vuln_code'] != 'None']\n",
    "    print(f\"After removing 'None' non_vuln_code: {len(df)}\")\n",
    "\n",
    "    # remove rows where number of lines in the code is below 30\n",
    "    for col in ['vuln_code', 'non_vuln_code']:\n",
    "        df[f'{col}_num_lines'] = df[col].apply(\n",
    "            lambda x: x.count('\\n') + 1 if isinstance(x, str) else 0\n",
    "        )\n",
    "    df = df[df['vuln_code_num_lines'] <= 150]\n",
    "    print(f\"After filtering vuln_code with line numbers: {len(df)}\")\n",
    "\n",
    "    df = df[df['non_vuln_code_num_lines'] <= 150]\n",
    "    print(f\"After filtering non_vuln_code with line numbers: {len(df)}\")\n",
    "\n",
    "    # remove empty list in diff_deleted\n",
    "    df = df[df['diff_deleted'].apply(lambda x: isinstance(x, list) and len(x) > 0)]\n",
    "    print(f\"After removing empty lists in diff_deleted: {len(df)}\")\n",
    "\n",
    "    # token_count should be num\n",
    "    df['token_count'] = df['token_count'].apply(parse_py_literal)\n",
    "    df = df.dropna(subset=['token_count'])\n",
    "    df['token_count'] = pd.to_numeric(df['token_count'])\n",
    "\n",
    "    # Function to recalculate token count\n",
    "    def recalculate_token_count(text):\n",
    "        encoding = tiktoken.get_encoding(\"cl100k_base\")\n",
    "        return len(encoding.encode(text, disallowed_special=())) if text else 0\n",
    "    df[\"token_count\"] = df[\"vuln_code\"].apply(recalculate_token_count)\n",
    "    \n",
    "    print(f\"After processing token_count: {len(df)}\")\n",
    "\n",
    "    # drop the other CWEs\n",
    "    df = df[df[\"cwe_id\"].isin(chosen_cwes)]\n",
    "    print(f\"After removing specific CWEs: {len(df)}\")\n",
    "\n",
    "\n",
    "    df = df.dropna()\n",
    "    print(f\"Final df length after dropna: {len(df)}\")\n",
    "\n",
    "    return df\n",
    "\n",
    "filtered_df = pre_processing(df)\n",
    "print(len(filtered_df))"
   ]
  },
  {
   "cell_type": "code",
   "execution_count": 4,
   "id": "c4fe6a0e",
   "metadata": {},
   "outputs": [
    {
     "data": {
      "image/png": "[encoded data removed]",
      "text/plain": [
       "<Figure size 864x432 with 1 Axes>"
      ]
     },
     "metadata": {
      "needs_background": "light"
     },
     "output_type": "display_data"
    },
    {
     "data": {
      "image/png": "[encoded data removed]",
      "text/plain": [
       "<Figure size 864x432 with 1 Axes>"
      ]
     },
     "metadata": {
      "needs_background": "light"
     },
     "output_type": "display_data"
    }
   ],
   "source": [
    "# Visualize the distribution of CWE IDs with graphs\n",
    "import matplotlib.pyplot as plt\n",
    "import seaborn as sns\n",
    "\n",
    "def visualize_cwe_distribution(df, test=False):\n",
    "    plt.figure(figsize=(12, 6))\n",
    "    cwe_counts = df['label'].value_counts() if test else df['cwe_id'].value_counts()\n",
    "    ax = sns.barplot(x=cwe_counts.index, y=cwe_counts.values)\n",
    "    plt.title('Distribution of CWE IDs')\n",
    "    plt.xlabel('CWE ID')\n",
    "    plt.ylabel('Count')\n",
    "    plt.xticks(rotation=45)\n",
    "    \n",
    "    # Add numbers on top of each bar\n",
    "    for p in ax.patches:\n",
    "        ax.annotate(f'{int(p.get_height())}', \n",
    "                    (p.get_x() + p.get_width() / 2., p.get_height()), \n",
    "                    ha='center', va='center', \n",
    "                    xytext=(0, 5), \n",
    "                    textcoords='offset points')\n",
    "    \n",
    "    plt.tight_layout()\n",
    "    plt.show()\n",
    "\n",
    "\n",
    "def visualize_language_distribution(df):\n",
    "    plt.figure(figsize=(12, 6))\n",
    "    lang_counts = df['programming_language'].value_counts()\n",
    "    ax = sns.barplot(x=lang_counts.index, y=lang_counts.values)\n",
    "    plt.title('Distribution of Programming Languages')\n",
    "    plt.xlabel('Programming Language')\n",
    "    plt.ylabel('Count')\n",
    "    plt.xticks(rotation=45)\n",
    "    \n",
    "    # Add numbers on top of each bar\n",
    "    for p in ax.patches:\n",
    "        ax.annotate(f'{int(p.get_height())}', \n",
    "                    (p.get_x() + p.get_width() / 2., p.get_height()), \n",
    "                    ha='center', va='center', \n",
    "                    xytext=(0, 5), \n",
    "                    textcoords='offset points')\n",
    "    \n",
    "    plt.tight_layout()\n",
    "    plt.show()\n",
    "\n",
    "visualize_cwe_distribution(filtered_df)\n",
    "visualize_language_distribution(filtered_df)"
   ]
  },
  {
   "cell_type": "code",
   "execution_count": 5,
   "id": "54fff3b5",
   "metadata": {},
   "outputs": [
    {
     "name": "stdout",
     "output_type": "stream",
     "text": [
      "CWE-79     604\n",
      "CWE-89     399\n",
      "CWE-352    128\n",
      "CWE-434     56\n",
      "Name: cwe_id, dtype: int64\n"
     ]
    }
   ],
   "source": [
    "print(filtered_df['cwe_id'].value_counts())\n",
    "\n",
    "filtered_df['label'] = filtered_df['cwe_id']\n",
    "filtered_df['code'] = filtered_df['vuln_code']"
   ]
  },
  {
   "cell_type": "code",
   "execution_count": 6,
   "id": "58f0aec3",
   "metadata": {},
   "outputs": [
    {
     "name": "stdout",
     "output_type": "stream",
     "text": [
      "1880\n",
      "494\n"
     ]
    }
   ],
   "source": [
    "import pandas as pd\n",
    "from sklearn.model_selection import train_test_split\n",
    "\n",
    "def stratified_split(df, test_size=0.2, random_state=42):\n",
    "    train_dfs = []\n",
    "    test_dfs = []\n",
    "    \n",
    "    # Group by both programming language and CWE\n",
    "    for (lang, cwe), group_df in df.groupby(['programming_language', 'cwe_id']):\n",
    "        # Skip groups with 0 samples (unlikely, but safe)\n",
    "        if len(group_df) == 0:\n",
    "            continue\n",
    "        \n",
    "        # If only 1 sample, add to training to avoid test set contamination\n",
    "        if len(group_df) == 1:\n",
    "            train_dfs.append(group_df)\n",
    "            continue\n",
    "        \n",
    "        # Split the group into train and test\n",
    "        group_train, group_test = train_test_split(\n",
    "            group_df,\n",
    "            test_size=test_size,\n",
    "            random_state=random_state,\n",
    "            # Optional: Shuffle the group data before splitting\n",
    "            shuffle=True\n",
    "        )\n",
    "        train_dfs.append(group_train)\n",
    "        test_dfs.append(group_test)\n",
    "    \n",
    "    # Combine all splits\n",
    "    train_set = pd.concat(train_dfs, ignore_index=True)\n",
    "    test_set = pd.concat(test_dfs, ignore_index=True)\n",
    "    return train_set, test_set\n",
    "\n",
    "def stratified_split_non_vuln(df, test_size=0.2, random_state=42):\n",
    "    train_dfs = []\n",
    "    test_dfs = []\n",
    "    \n",
    "    # Group by both programming language and CWE\n",
    "    for (cwe), group_df in df.groupby(['cwe_id']):\n",
    "        # Skip groups with 0 samples (unlikely, but safe)\n",
    "        if len(group_df) == 0:\n",
    "            continue\n",
    "        \n",
    "        # If only 1 sample, add to training to avoid test set contamination\n",
    "        if len(group_df) == 1:\n",
    "            train_dfs.append(group_df)\n",
    "            continue\n",
    "        \n",
    "        # Split the group into train and test\n",
    "        group_train, group_test = train_test_split(\n",
    "            group_df,\n",
    "            test_size=test_size,\n",
    "            random_state=random_state,\n",
    "            # Optional: Shuffle the group data before splitting\n",
    "            shuffle=True\n",
    "        )\n",
    "        train_dfs.append(group_train)\n",
    "        test_dfs.append(group_test)\n",
    "    \n",
    "    # Combine all splits\n",
    "    train_set = pd.concat(train_dfs, ignore_index=True)\n",
    "    test_set = pd.concat(test_dfs, ignore_index=True)\n",
    "    return train_set, test_set\n",
    "\n",
    "# Example usage\n",
    "train_vuln_df, test_vuln_df = stratified_split(filtered_df[filtered_df['label'] != 'non_vuln'], test_size=0.20)\n",
    "train_non_vuln_df = train_vuln_df.copy()\n",
    "train_non_vuln_df['label'] = 'non_vuln'\n",
    "train_non_vuln_df['code'] = train_non_vuln_df['non_vuln_code']\n",
    "\n",
    "test_non_vuln_df = test_vuln_df.copy()\n",
    "test_non_vuln_df['label'] = 'non_vuln'\n",
    "test_non_vuln_df['code'] = test_non_vuln_df['non_vuln_code']\n",
    "\n",
    "# Combine the two sets\n",
    "train_df = pd.concat([train_vuln_df, train_non_vuln_df], ignore_index=True)\n",
    "test_df = pd.concat([test_vuln_df, test_non_vuln_df], ignore_index=True)\n",
    "print(len(train_df))\n",
    "print(len(test_df))"
   ]
  },
  {
   "cell_type": "code",
   "execution_count": 7,
   "id": "cda34de4",
   "metadata": {},
   "outputs": [
    {
     "data": {
      "image/png": "[encoded data removed]",
      "text/plain": [
       "<Figure size 864x432 with 1 Axes>"
      ]
     },
     "metadata": {
      "needs_background": "light"
     },
     "output_type": "display_data"
    },
    {
     "data": {
      "image/png": "[encoded data removed]",
      "text/plain": [
       "<Figure size 864x432 with 1 Axes>"
      ]
     },
     "metadata": {
      "needs_background": "light"
     },
     "output_type": "display_data"
    }
   ],
   "source": [
    "visualize_cwe_distribution(train_df, test=True)\n",
    "visualize_language_distribution(train_df)"
   ]
  },
  {
   "cell_type": "code",
   "execution_count": 8,
   "id": "f20d84d6",
   "metadata": {},
   "outputs": [
    {
     "data": {
      "image/png": "[encoded data removed]",
      "text/plain": [
       "<Figure size 864x432 with 1 Axes>"
      ]
     },
     "metadata": {
      "needs_background": "light"
     },
     "output_type": "display_data"
    },
    {
     "data": {
      "image/png": "[encoded data removed]",
      "text/plain": [
       "<Figure size 864x432 with 1 Axes>"
      ]
     },
     "metadata": {
      "needs_background": "light"
     },
     "output_type": "display_data"
    }
   ],
   "source": [
    "visualize_cwe_distribution(test_df, test=True)\n",
    "visualize_language_distribution(test_df)"
   ]
  },
  {
   "cell_type": "code",
   "execution_count": 10,
   "id": "7e1c2cb3",
   "metadata": {},
   "outputs": [
    {
     "name": "stdout",
     "output_type": "stream",
     "text": [
      "1691\n",
      "<?php\n",
      "\n",
      "defined('GX_LIB') or die('Direct Access Not Allowed!');\n",
      "/*\n",
      " * GeniXCMS - Content Management System\n",
      " *\n",
      " * PHP Based Content Management System and Framework\n",
      " *\n",
      " * @since 0.0.1 build date 20150312\n",
      " *\n",
      " * @version 1.0.0\n",
      " *\n",
      " * @link https://github.com/semplon/GeniXCMS\n",
      " * @link http://genixcms.org\n",
      " *\n",
      " * @author Puguh Wijayanto <psw@metalgenix.com>\n",
      " * @copyright 2014-2016 Puguh Wijayanto\n",
      " * @license http://www.opensource.org/licenses/mit-license.php MIT\n",
      " */\n",
      "\n",
      "if (User::access(0)) {\n",
      "    if (isset($_GET['view']) && $_GET['view'] == 'options') {\n",
      "        $theme = Options::v('themes');\n",
      "        $data['sitetitle'] = Theme::title($theme);\n",
      "        Theme::admin('header', $data);\n",
      "        Theme::options($theme);\n",
      "        Theme::admin('footer');\n",
      "    } else {\n",
      "        if (isset($_POST['upload'])) {\n",
      "            if (!Token::isExist($_POST['token'])) {\n",
      "                $alertDanger[] = TOKEN_NOT_EXIST;\n",
      "            }\n",
      "            if (!isset($_FILES['theme']['name']) || $_FILES['theme']['name'] == '') {\n",
      "                $alertDanger[] = NOFILE_UPLOADED;\n",
      "            }\n",
      "\n",
      "            if (!isset($alertDanger)) {\n",
      "                //Mod::activate($_GET['themes']);\n",
      "                $path = '/inc/themes/';\n",
      "                $allowed = array('zip');\n",
      "                $theme = Upload::go('theme', $path, $allowed);\n",
      "                //print_r($theme);\n",
      "                $zip = new ZipArchive();\n",
      "                if ($zip->open($theme['filepath']) === true) {\n",
      "                    $zip->extractTo(GX_THEME);\n",
      "                    $zip->close();\n",
      "                    Hooks::run('theme_install_action', $theme);\n",
      "                    $data['alertSuccess'][] = MSG_THEME_INSTALLED;\n",
      "                } else {\n",
      "                    $data['alertDanger'][] = MSG_THEME_CANT_EXTRACT;\n",
      "                }\n",
      "                unlink($theme['filepath']);\n",
      "            } else {\n",
      "                $data['alertDanger'] = $alertDanger;\n",
      "            }\n",
      "            if (isset($_POST['token'])) {\n",
      "                Token::remove($_POST['token']);\n",
      "            }\n",
      "        }\n",
      "\n",
      "        if (isset($_GET['act'])) {\n",
      "            if ($_GET['act'] == 'activate') {\n",
      "                if (!Token::isExist($_GET['token'])) {\n",
      "                    $alertDanger[] = TOKEN_NOT_EXIST;\n",
      "                }\n",
      "\n",
      "                if (!isset($alertDanger)) {\n",
      "                    Theme::activate($_GET['themes']);\n",
      "                    $data['alertSuccess'][] = THEME_ACTIVATED;\n",
      "                } else {\n",
      "                    $data['alertDanger'] = $alertDanger;\n",
      "                }\n",
      "            } elseif ($_GET['act'] == 'remove') {\n",
      "                if (!Token::isExist($_GET['token'])) {\n",
      "                    $alertDanger[] = TOKEN_NOT_EXIST;\n",
      "                }\n",
      "                if (Theme::isActive($_GET['themes'])) {\n",
      "                    $alertDanger[] = MSG_THEME_IS_ACTIVE;\n",
      "                }\n",
      "                if (!isset($alertDanger)) {\n",
      "                    if (Files::delTree(GX_THEME.'/'.$_GET['themes'])) {\n",
      "                        $data['alertSuccess'][] = THEME_REMOVED;\n",
      "                    } else {\n",
      "                        $data['alertDanger'][] = MSG_THEME_NOT_REMOVED;\n",
      "                    }\n",
      "                } else {\n",
      "                    $data['alertDanger'] = $alertDanger;\n",
      "                }\n",
      "            }\n",
      "        }\n",
      "\n",
      "        $data['sitetitle'] = THEMES;\n",
      "        $data['themes'] = Theme::thmList();\n",
      "        Theme::admin('header', $data);\n",
      "        System::inc('themes', $data);\n",
      "        Theme::admin('footer');\n",
      "    }\n",
      "} else {\n",
      "    Theme::admin('header');\n",
      "    Control::error('noaccess');\n",
      "    Theme::admin('footer');\n",
      "}\n",
      "\n",
      "/* End of file mods.control.php */\n",
      "/* Location: ./inc/lib/Control/Backend/mods.control.php */\n",
      "\n",
      "(23, \"        $data['sitetitle'] = THEMES;\")\n",
      "(25, \"        Theme::options(Options::v('themes'));\")\n"
     ]
    }
   ],
   "source": [
    "import random \n",
    "\n",
    "index = random.randint(0, len(train_df)-1)\n",
    "print(index)\n",
    "print(train_df['code'].iloc[index])\n",
    "for elm in train_df['diff_deleted'].iloc[index]:\n",
    "  print(elm)"
   ]
  },
  {
   "cell_type": "code",
   "execution_count": 12,
   "id": "d9a39ab9",
   "metadata": {},
   "outputs": [],
   "source": [
    "train_df.to_pickle(\"../dataset/train_df.pkl\")\n",
    "test_df.to_pickle(\"../dataset/test_df.pkl\")"
   ]
  },
  {
   "cell_type": "code",
   "execution_count": 13,
   "id": "659f8fd1",
   "metadata": {},
   "outputs": [],
   "source": [
    "train_df[train_df['programming_language'] == 'PHP'].to_pickle(\"../dataset/train_df_PHP.pkl\")"
   ]
  }
 ],
 "metadata": {
  "kernelspec": {
   "display_name": "venv",
   "language": "python",
   "name": "python3"
  },
  "language_info": {
   "codemirror_mode": {
    "name": "ipython",
    "version": 3
   },
   "file_extension": ".py",
   "mimetype": "text/x-python",
   "name": "python",
   "nbconvert_exporter": "python",
   "pygments_lexer": "ipython3",
   "version": "3.9.18"
  }
 },
 "nbformat": 4,
 "nbformat_minor": 5
}
